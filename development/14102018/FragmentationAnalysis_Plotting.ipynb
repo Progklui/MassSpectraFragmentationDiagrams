{
 "cells": [
  {
   "cell_type": "markdown",
   "metadata": {},
   "source": [
    "# Programm for generating fragmentation diagrams in mass spectrometry"
   ]
  },
  {
   "cell_type": "markdown",
   "metadata": {},
   "source": [
    "## Function filtering data from .csv file - returns plottable pandas documents"
   ]
  },
  {
   "cell_type": "code",
   "execution_count": 1,
   "metadata": {},
   "outputs": [],
   "source": [
    "def prepare_data(ms_info):\n",
    "    global filepath\n",
    "    \n",
    "    data = pd.io.parsers.read_csv(filepath)\n",
    "    \n",
    "    data.drop(data[data.m > (ms_info + 2)].index, inplace=True)\n",
    "    data.drop(data[data.m < (ms_info - 1)].index, inplace=True)\n",
    "    \n",
    "    #data.intensity = savgol_filter(data.intensity, 23, 6, mode='wrap')\n",
    "    #data.intensity = savgol_filter(data.intensity, 21, 7, mode='nearest')\n",
    "    \n",
    "    global highest_value_overall\n",
    "    global ms_info_overall\n",
    "    highest_value = 0\n",
    "    scan = 0\n",
    "    index = 0\n",
    "\n",
    "    d = {'scan': [scan],\n",
    "         'intensity': [highest_value]}\n",
    "\n",
    "    data_new = pd.DataFrame(d)\n",
    "    data_new_scaled = pd.DataFrame(d)\n",
    "    \n",
    "    for index, row in data.iterrows():\n",
    "        scan_new = row['scan']\n",
    "    \n",
    "        if scan_new == scan:\n",
    "            highest_value_new = row['intensity']\n",
    "    \n",
    "            if highest_value_new > highest_value:\n",
    "                highest_value = highest_value_new\n",
    "        else:\n",
    "            d = {'scan': [scan],\n",
    "                 'intensity': [highest_value]}\n",
    "            \n",
    "            data_new = data_new.append(pd.DataFrame(d))\n",
    "        \n",
    "            scan = scan_new\n",
    "            highest_value = 0\n",
    "    \n",
    "    data_new = data_new.iloc[2:]\n",
    "    \n",
    "    data_new.intensity = savgol_filter(data_new.intensity, 11, 6, mode='nearest')\n",
    "    \n",
    "    if ms_info < ms_info_overall:\n",
    "        data_new['intensity'].iloc[0] = 0\n",
    "    \n",
    "    for index, row in data_new.iterrows():\n",
    "        highest_value = row['intensity']\n",
    "        \n",
    "        if highest_value >= highest_value_overall:\n",
    "                highest_value_overall = highest_value\n",
    "    \n",
    "    for i, row in data_new.iterrows():\n",
    "        scan = row['scan']\n",
    "        highest_value = row['intensity']\n",
    "        \n",
    "        d = {'scan': [scan],\n",
    "             'intensity': [(highest_value/highest_value_overall)*100]}\n",
    "        \n",
    "        data_new_scaled = data_new_scaled.append(pd.DataFrame(d))\n",
    "    \n",
    "    data_new_scaled = data_new_scaled.iloc[2:]\n",
    "    \n",
    "    if ms_info < ms_info_overall:\n",
    "        data_new_scaled['intensity'].iloc[0] = 0\n",
    "        \n",
    "    return data_new, data_new_scaled"
   ]
  },
  {
   "cell_type": "markdown",
   "metadata": {},
   "source": [
    "## Function plotting the final pandas documents and saving copies"
   ]
  },
  {
   "cell_type": "code",
   "execution_count": 2,
   "metadata": {},
   "outputs": [],
   "source": [
    "def plot_diag(catab, plant, category, version, catabolite, fragmentation_mode):\n",
    "    %matplotlib qt\n",
    "    \n",
    "    global time\n",
    "    \n",
    "    fig_1 = plt.figure(1)\n",
    "    \n",
    "    ax = plt.axes()\n",
    "    ax.yaxis.grid()\n",
    "    \n",
    "    overall_length = 0\n",
    "    \n",
    "    dataframe = pd.DataFrame()\n",
    "    dataframe_scaled = pd.DataFrame()\n",
    "    \n",
    "    for i in catab: \n",
    "        data_to_draw, data_to_draw_scaled = prepare_data(int(i))\n",
    "        \n",
    "        length = data_to_draw.scan.size\n",
    "        \n",
    "        if length > overall_length:\n",
    "            overall_length = length\n",
    "            \n",
    "    for i in catab:\n",
    "        data_to_draw, data_to_draw_scaled = prepare_data(int(i))\n",
    "        \n",
    "        length = data_to_draw.scan.size\n",
    "        #x = np.arange(0, (length/(overall_length+1)*100), ((length/(overall_length+1)*100)/length))\n",
    "        #x = np.arange(0, ((length/overall_length)*100), (((length/overall_length)*100)/length))\n",
    "        #x = np.arange(20,45,1)\n",
    "        #x = np.arange(0,100,4)\n",
    "        x = np.arange(15,30,1)\n",
    "        \n",
    "        plt.plot(x, data_to_draw.intensity, label = i + ' Da')\n",
    "    \n",
    "    plt.title(plant+' - '+category+'-'+catabolite+fragmentation_mode)\n",
    "    plt.xlabel('normalised collision energy (in %)')\n",
    "    plt.ylabel('intensity (arbitrary unit)')\n",
    "    plt.legend()\n",
    "    \n",
    "    ax.set_ylim(ymin=0)\n",
    "    #ax.set_xlim([0,96])\n",
    "    #ax.set_xlim([20,44])\n",
    "    ax.set_xlim([15,29])\n",
    "    \n",
    "    directory = 'diagrams_output/'+plant+'/'+category+'/'+catabolite+'/'+time+'/'+fragmentation_mode+'/'+version+'/'\n",
    "    diag_name = directory+catabolite+fragmentation_mode+'unscaled'\n",
    "    \n",
    "    if not os.path.exists(directory):\n",
    "        os.makedirs(directory)\n",
    "    \n",
    "    lines = len(catab)\n",
    "    index = 0\n",
    "\n",
    "    while index <= lines - 1:\n",
    "        data = fig_1.axes[0].lines[index].get_data()\n",
    "   \n",
    "        if index == 0:\n",
    "            dataframe_two = pd.DataFrame(data[0])\n",
    "            dataframe = pd.concat([dataframe, dataframe_two], axis=1)\n",
    "\n",
    "            dataframe_two = pd.DataFrame(data[1])\n",
    "            dataframe = pd.concat([dataframe, dataframe_two], axis=1)\n",
    "        else:\n",
    "            dataframe_two = pd.DataFrame(data[1]) \n",
    "            dataframe = pd.concat([dataframe, dataframe_two], axis=1)\n",
    "\n",
    "        index = index + 1\n",
    "\n",
    "    dataframe.to_csv(diag_name+'.csv')\n",
    "    plt.savefig(diag_name+'.png')\n",
    "    pl.dump(fig_1, open(diag_name+'.pickle','wb'))\n",
    "    \n",
    "    plt.show()"
   ]
  },
  {
   "cell_type": "markdown",
   "metadata": {},
   "source": [
    "### main imports"
   ]
  },
  {
   "cell_type": "code",
   "execution_count": 3,
   "metadata": {},
   "outputs": [],
   "source": [
    "import os\n",
    "import time\n",
    "\n",
    "import numpy as np\n",
    "from numpy import trapz\n",
    "\n",
    "import pandas as pd\n",
    "\n",
    "from scipy.signal import savgol_filter\n",
    "from sklearn.svm import SVR\n",
    "\n",
    "import matplotlib.pyplot as plt\n",
    "from matplotlib import cm\n",
    "from mpl_toolkits.mplot3d import axes3d\n",
    "import pickle as pl"
   ]
  },
  {
   "cell_type": "markdown",
   "metadata": {},
   "source": [
    "### setting constants and file path"
   ]
  },
  {
   "cell_type": "code",
   "execution_count": 4,
   "metadata": {},
   "outputs": [],
   "source": [
    "#time = time.strftime(\"%d%m%Y\") # should be in accordance with date of measure - if not, change it!\n",
    "time = '28092018'\n",
    "plantname = 'Wein'\n",
    "\n",
    "filename = 'LCMS_Wein_PQD_28092018_777PQD-Version3'\n",
    "filepath = 'RawFiles/'+time+'/'+plantname+'/'+filename+'.csv'\n",
    "\n",
    "version = 'Version3'"
   ]
  },
  {
   "cell_type": "markdown",
   "metadata": {},
   "source": [
    "### User interface - user is asked to specify about compound"
   ]
  },
  {
   "cell_type": "code",
   "execution_count": 5,
   "metadata": {},
   "outputs": [
    {
     "name": "stdout",
     "output_type": "stream",
     "text": [
      "Specify plant: Wein\n",
      "Specify catabolite type: DFCC-1\n",
      "Specify fragmented mass: 456\n",
      "Specify fragmentation mode: PQD+w\n",
      "Specify [M]-fragments of above catabolite: 777,759,745,727,709,691,683,654\n"
     ]
    }
   ],
   "source": [
    "plant = input(\"Specify plant: \")\n",
    "category = input(\"Specify catabolite type: \")\n",
    "catabolite = input(\"Specify fragmented mass: \")\n",
    "fragmentation_mode = input(\"Specify fragmentation mode: \")\n",
    "\n",
    "catabolites_string = input(\"Specify [M]-fragments of above catabolite: \")\n",
    "catabolites = catabolites_string.split(\",\")\n",
    "\n",
    "highest_value_overall = 0\n",
    "ms_info_overall = int(catabolites[0])"
   ]
  },
  {
   "cell_type": "code",
   "execution_count": 6,
   "metadata": {
    "scrolled": false
   },
   "outputs": [],
   "source": [
    "plot_diag(catabolites, plant, category, version, catabolite, fragmentation_mode)"
   ]
  }
 ],
 "metadata": {
  "kernelspec": {
   "display_name": "Python 3",
   "language": "python",
   "name": "python3"
  },
  "language_info": {
   "codemirror_mode": {
    "name": "ipython",
    "version": 3
   },
   "file_extension": ".py",
   "mimetype": "text/x-python",
   "name": "python",
   "nbconvert_exporter": "python",
   "pygments_lexer": "ipython3",
   "version": "3.5.4"
  }
 },
 "nbformat": 4,
 "nbformat_minor": 2
}
