{
 "cells": [
  {
   "cell_type": "markdown",
   "metadata": {},
   "source": [
    "# Programm for generating fragmentation diagrams in mass spectrometry"
   ]
  },
  {
   "cell_type": "markdown",
   "metadata": {},
   "source": [
    "## Function filtering data from .csv file - returns plottable pandas documents"
   ]
  },
  {
   "cell_type": "code",
   "execution_count": 1,
   "metadata": {},
   "outputs": [],
   "source": [
    "def prepare_data(ms_info):\n",
    "    global filepath\n",
    "    \n",
    "    data = pd.io.parsers.read_csv(filepath)\n",
    "    \n",
    "    data.drop(data[data.m > (ms_info + 2)].index, inplace=True)\n",
    "    data.drop(data[data.m < (ms_info - 1)].index, inplace=True)\n",
    "    \n",
    "    #data.intensity = savgol_filter(data.intensity, 23, 6, mode='wrap')\n",
    "    #data.intensity = savgol_filter(data.intensity, 21, 7, mode='nearest')\n",
    "    \n",
    "    global highest_value_overall\n",
    "    global ms_info_overall\n",
    "    highest_value = 0\n",
    "    scan = 0\n",
    "    index = 0\n",
    "\n",
    "    d = {'scan': [scan],\n",
    "         'intensity': [highest_value]}\n",
    "\n",
    "    data_new = pd.DataFrame(d)\n",
    "    data_new_scaled = pd.DataFrame(d)\n",
    "    \n",
    "    for index, row in data.iterrows():\n",
    "        scan_new = row['scan']\n",
    "    \n",
    "        if scan_new == scan:\n",
    "            highest_value_new = row['intensity']\n",
    "    \n",
    "            if highest_value_new > highest_value:\n",
    "                highest_value = highest_value_new\n",
    "        else:\n",
    "            d = {'scan': [scan],\n",
    "                 'intensity': [highest_value]}\n",
    "            \n",
    "            data_new = data_new.append(pd.DataFrame(d))\n",
    "        \n",
    "            scan = scan_new\n",
    "            highest_value = 0\n",
    "    \n",
    "    data_new = data_new.iloc[2:]\n",
    "    \n",
    "    data_new.intensity = savgol_filter(data_new.intensity, 11, 6, mode='nearest')\n",
    "    \n",
    "    if ms_info < ms_info_overall:\n",
    "        data_new['intensity'].iloc[0] = 0\n",
    "    \n",
    "    for index, row in data_new.iterrows():\n",
    "        highest_value = row['intensity']\n",
    "        \n",
    "        if highest_value >= highest_value_overall:\n",
    "                highest_value_overall = highest_value\n",
    "    \n",
    "    for i, row in data_new.iterrows():\n",
    "        scan = row['scan']\n",
    "        highest_value = row['intensity']\n",
    "        \n",
    "        d = {'scan': [scan],\n",
    "             'intensity': [(highest_value/highest_value_overall)*100]}\n",
    "        \n",
    "        data_new_scaled = data_new_scaled.append(pd.DataFrame(d))\n",
    "    \n",
    "    data_new_scaled = data_new_scaled.iloc[2:]\n",
    "    \n",
    "    if ms_info < ms_info_overall:\n",
    "        data_new_scaled['intensity'].iloc[0] = 0\n",
    "        \n",
    "    return data_new, data_new_scaled"
   ]
  },
  {
   "cell_type": "markdown",
   "metadata": {},
   "source": [
    "## Function plotting the final pandas documents and saving copies"
   ]
  },
  {
   "cell_type": "code",
   "execution_count": 2,
   "metadata": {},
   "outputs": [],
   "source": [
    "def plot_diag(catab, plant, category, version, catabolite, fragmentation_mode):\n",
    "    %matplotlib qt\n",
    "    \n",
    "    global time\n",
    "    \n",
    "    fig_1 = plt.figure(1)\n",
    "    \n",
    "    ax = plt.axes()\n",
    "    ax.yaxis.grid()\n",
    "    \n",
    "    overall_length = 0\n",
    "    \n",
    "    dataframe = pd.DataFrame()\n",
    "    dataframe_scaled = pd.DataFrame()\n",
    "    \n",
    "    for i in catab: \n",
    "        data_to_draw, data_to_draw_scaled = prepare_data(int(i))\n",
    "        \n",
    "        length = data_to_draw.scan.size\n",
    "        \n",
    "        if length > overall_length:\n",
    "            overall_length = length\n",
    "            \n",
    "    for i in catab:\n",
    "        data_to_draw, data_to_draw_scaled = prepare_data(int(i))\n",
    "        \n",
    "        length = data_to_draw.scan.size\n",
    "        #x = np.arange(0, (length/(overall_length+1)*100), ((length/(overall_length+1)*100)/length))\n",
    "        #x = np.arange(0, ((length/overall_length)*100), (((length/overall_length)*100)/length))\n",
    "        #x = np.arange(20,45,1)\n",
    "        #x = np.arange(0,100,4)\n",
    "        x = np.arange(15,30,1)\n",
    "        \n",
    "        plt.plot(x, data_to_draw.intensity, label = i + ' Da')\n",
    "    \n",
    "    plt.title(plant+' - '+category+'-'+catabolite+fragmentation_mode)\n",
    "    plt.xlabel('normalised collision energy (in %)')\n",
    "    plt.ylabel('intensity (arbitrary unit)')\n",
    "    plt.legend()\n",
    "    \n",
    "    ax.set_ylim(ymin=0)\n",
    "    #ax.set_xlim([0,96])\n",
    "    #ax.set_xlim([20,44])\n",
    "    ax.set_xlim([15,29])\n",
    "    \n",
    "    directory = 'diagrams_output/'+plant+'/'+category+'/'+catabolite+'/'+time+'/'+fragmentation_mode+'/'+version+'/'\n",
    "    diag_name = directory+catabolite+fragmentation_mode+'unscaled'\n",
    "    \n",
    "    if not os.path.exists(directory):\n",
    "        os.makedirs(directory)\n",
    "    \n",
    "    lines = len(catab)\n",
    "    index = 0\n",
    "\n",
    "    while index <= lines - 1:\n",
    "        data = fig_1.axes[0].lines[index].get_data()\n",
    "   \n",
    "        if index == 0:\n",
    "            dataframe_two = pd.DataFrame(data[0])\n",
    "            dataframe = pd.concat([dataframe, dataframe_two], axis=1)\n",
    "\n",
    "            dataframe_two = pd.DataFrame(data[1])\n",
    "            dataframe = pd.concat([dataframe, dataframe_two], axis=1)\n",
    "        else:\n",
    "            dataframe_two = pd.DataFrame(data[1]) \n",
    "            dataframe = pd.concat([dataframe, dataframe_two], axis=1)\n",
    "\n",
    "        index = index + 1\n",
    "\n",
    "    dataframe.to_csv(diag_name+'.csv')\n",
    "    plt.savefig(diag_name+'.png')\n",
    "    pl.dump(fig_1, open(diag_name+'.pickle','wb'))\n",
    "    \n",
    "    plt.show()"
   ]
  },
  {
   "cell_type": "markdown",
   "metadata": {},
   "source": [
    "### main imports"
   ]
  },
  {
   "cell_type": "code",
   "execution_count": 3,
   "metadata": {},
   "outputs": [],
   "source": [
    "import os\n",
    "import time\n",
    "\n",
    "import numpy as np\n",
    "from numpy import trapz\n",
    "\n",
    "import pandas as pd\n",
    "\n",
    "from scipy.signal import savgol_filter\n",
    "from sklearn.svm import SVR\n",
    "\n",
    "import matplotlib.pyplot as plt\n",
    "from matplotlib import cm\n",
    "from mpl_toolkits.mplot3d import axes3d\n",
    "import pickle as pl"
   ]
  },
  {
   "cell_type": "markdown",
   "metadata": {},
   "source": [
    "### setting constants and file path"
   ]
  },
  {
   "cell_type": "code",
   "execution_count": 4,
   "metadata": {},
   "outputs": [],
   "source": [
    "#time = time.strftime(\"%d%m%Y\") # should be in accordance with date of measure - if not, change it!\n",
    "time = '28092018'\n",
    "plantname = 'Wein'\n",
    "\n",
    "filename = 'LCMS_Wein_PQD_28092018_777PQD-Version4'\n",
    "filepath = 'RawFiles/'+time+'/'+plantname+'/'+filename+'.csv'\n",
    "\n",
    "version = 'Version4'"
   ]
  },
  {
   "cell_type": "markdown",
   "metadata": {},
   "source": [
    "### User interface - user is asked to specify about compound"
   ]
  },
  {
   "cell_type": "code",
   "execution_count": 5,
   "metadata": {},
   "outputs": [
    {
     "name": "stdout",
     "output_type": "stream",
     "text": [
      "Specify plant: Wein\n",
      "Specify catabolite type: DFCC-1\n",
      "Specify fragmented mass: 777\n",
      "Specify fragmentation mode: PQD+w\n",
      "Specify [M]-fragments of above catabolite: 777,759,745,727,709,691,683,654,636,622,610,608,594,581,559,515,482,460,442,400,319\n"
     ]
    }
   ],
   "source": [
    "plant = input(\"Specify plant: \")\n",
    "category = input(\"Specify catabolite type: \")\n",
    "catabolite = input(\"Specify fragmented mass: \")\n",
    "fragmentation_mode = input(\"Specify fragmentation mode: \")\n",
    "\n",
    "catabolites_string = input(\"Specify [M]-fragments of above catabolite: \")\n",
    "catabolites = catabolites_string.split(\",\")\n",
    "\n",
    "highest_value_overall = 0\n",
    "ms_info_overall = int(catabolites[0])"
   ]
  },
  {
   "cell_type": "code",
   "execution_count": 6,
   "metadata": {
    "scrolled": false
   },
   "outputs": [
    {
     "ename": "IndexError",
     "evalue": "single positional indexer is out-of-bounds",
     "output_type": "error",
     "traceback": [
      "\u001b[0;31m---------------------------------------------------------------------------\u001b[0m",
      "\u001b[0;31mIndexError\u001b[0m                                Traceback (most recent call last)",
      "\u001b[0;32m<ipython-input-6-25ad96790ebe>\u001b[0m in \u001b[0;36m<module>\u001b[0;34m()\u001b[0m\n\u001b[0;32m----> 1\u001b[0;31m \u001b[0mplot_diag\u001b[0m\u001b[0;34m(\u001b[0m\u001b[0mcatabolites\u001b[0m\u001b[0;34m,\u001b[0m \u001b[0mplant\u001b[0m\u001b[0;34m,\u001b[0m \u001b[0mcategory\u001b[0m\u001b[0;34m,\u001b[0m \u001b[0mversion\u001b[0m\u001b[0;34m,\u001b[0m \u001b[0mcatabolite\u001b[0m\u001b[0;34m,\u001b[0m \u001b[0mfragmentation_mode\u001b[0m\u001b[0;34m)\u001b[0m\u001b[0;34m\u001b[0m\u001b[0m\n\u001b[0m",
      "\u001b[0;32m<ipython-input-2-5a86f88f09f4>\u001b[0m in \u001b[0;36mplot_diag\u001b[0;34m(catab, plant, category, version, catabolite, fragmentation_mode)\u001b[0m\n\u001b[1;32m     15\u001b[0m \u001b[0;34m\u001b[0m\u001b[0m\n\u001b[1;32m     16\u001b[0m     \u001b[0;32mfor\u001b[0m \u001b[0mi\u001b[0m \u001b[0;32min\u001b[0m \u001b[0mcatab\u001b[0m\u001b[0;34m:\u001b[0m\u001b[0;34m\u001b[0m\u001b[0m\n\u001b[0;32m---> 17\u001b[0;31m         \u001b[0mdata_to_draw\u001b[0m\u001b[0;34m,\u001b[0m \u001b[0mdata_to_draw_scaled\u001b[0m \u001b[0;34m=\u001b[0m \u001b[0mprepare_data\u001b[0m\u001b[0;34m(\u001b[0m\u001b[0mint\u001b[0m\u001b[0;34m(\u001b[0m\u001b[0mi\u001b[0m\u001b[0;34m)\u001b[0m\u001b[0;34m)\u001b[0m\u001b[0;34m\u001b[0m\u001b[0m\n\u001b[0m\u001b[1;32m     18\u001b[0m \u001b[0;34m\u001b[0m\u001b[0m\n\u001b[1;32m     19\u001b[0m         \u001b[0mlength\u001b[0m \u001b[0;34m=\u001b[0m \u001b[0mdata_to_draw\u001b[0m\u001b[0;34m.\u001b[0m\u001b[0mscan\u001b[0m\u001b[0;34m.\u001b[0m\u001b[0msize\u001b[0m\u001b[0;34m\u001b[0m\u001b[0m\n",
      "\u001b[0;32m<ipython-input-1-c883c46fa3d6>\u001b[0m in \u001b[0;36mprepare_data\u001b[0;34m(ms_info)\u001b[0m\n\u001b[1;32m     44\u001b[0m \u001b[0;34m\u001b[0m\u001b[0m\n\u001b[1;32m     45\u001b[0m     \u001b[0;32mif\u001b[0m \u001b[0mms_info\u001b[0m \u001b[0;34m<\u001b[0m \u001b[0mms_info_overall\u001b[0m\u001b[0;34m:\u001b[0m\u001b[0;34m\u001b[0m\u001b[0m\n\u001b[0;32m---> 46\u001b[0;31m         \u001b[0mdata_new\u001b[0m\u001b[0;34m[\u001b[0m\u001b[0;34m'intensity'\u001b[0m\u001b[0;34m]\u001b[0m\u001b[0;34m.\u001b[0m\u001b[0miloc\u001b[0m\u001b[0;34m[\u001b[0m\u001b[0;36m0\u001b[0m\u001b[0;34m]\u001b[0m \u001b[0;34m=\u001b[0m \u001b[0;36m0\u001b[0m\u001b[0;34m\u001b[0m\u001b[0m\n\u001b[0m\u001b[1;32m     47\u001b[0m \u001b[0;34m\u001b[0m\u001b[0m\n\u001b[1;32m     48\u001b[0m     \u001b[0;32mfor\u001b[0m \u001b[0mindex\u001b[0m\u001b[0;34m,\u001b[0m \u001b[0mrow\u001b[0m \u001b[0;32min\u001b[0m \u001b[0mdata_new\u001b[0m\u001b[0;34m.\u001b[0m\u001b[0miterrows\u001b[0m\u001b[0;34m(\u001b[0m\u001b[0;34m)\u001b[0m\u001b[0;34m:\u001b[0m\u001b[0;34m\u001b[0m\u001b[0m\n",
      "\u001b[0;32m~/anaconda3/lib/python3.5/site-packages/pandas/core/indexing.py\u001b[0m in \u001b[0;36m__setitem__\u001b[0;34m(self, key, value)\u001b[0m\n\u001b[1;32m    191\u001b[0m         \u001b[0;32melse\u001b[0m\u001b[0;34m:\u001b[0m\u001b[0;34m\u001b[0m\u001b[0m\n\u001b[1;32m    192\u001b[0m             \u001b[0mkey\u001b[0m \u001b[0;34m=\u001b[0m \u001b[0mcom\u001b[0m\u001b[0;34m.\u001b[0m\u001b[0m_apply_if_callable\u001b[0m\u001b[0;34m(\u001b[0m\u001b[0mkey\u001b[0m\u001b[0;34m,\u001b[0m \u001b[0mself\u001b[0m\u001b[0;34m.\u001b[0m\u001b[0mobj\u001b[0m\u001b[0;34m)\u001b[0m\u001b[0;34m\u001b[0m\u001b[0m\n\u001b[0;32m--> 193\u001b[0;31m         \u001b[0mindexer\u001b[0m \u001b[0;34m=\u001b[0m \u001b[0mself\u001b[0m\u001b[0;34m.\u001b[0m\u001b[0m_get_setitem_indexer\u001b[0m\u001b[0;34m(\u001b[0m\u001b[0mkey\u001b[0m\u001b[0;34m)\u001b[0m\u001b[0;34m\u001b[0m\u001b[0m\n\u001b[0m\u001b[1;32m    194\u001b[0m         \u001b[0mself\u001b[0m\u001b[0;34m.\u001b[0m\u001b[0m_setitem_with_indexer\u001b[0m\u001b[0;34m(\u001b[0m\u001b[0mindexer\u001b[0m\u001b[0;34m,\u001b[0m \u001b[0mvalue\u001b[0m\u001b[0;34m)\u001b[0m\u001b[0;34m\u001b[0m\u001b[0m\n\u001b[1;32m    195\u001b[0m \u001b[0;34m\u001b[0m\u001b[0m\n",
      "\u001b[0;32m~/anaconda3/lib/python3.5/site-packages/pandas/core/indexing.py\u001b[0m in \u001b[0;36m_get_setitem_indexer\u001b[0;34m(self, key)\u001b[0m\n\u001b[1;32m    177\u001b[0m \u001b[0;34m\u001b[0m\u001b[0m\n\u001b[1;32m    178\u001b[0m         \u001b[0;32mtry\u001b[0m\u001b[0;34m:\u001b[0m\u001b[0;34m\u001b[0m\u001b[0m\n\u001b[0;32m--> 179\u001b[0;31m             \u001b[0;32mreturn\u001b[0m \u001b[0mself\u001b[0m\u001b[0;34m.\u001b[0m\u001b[0m_convert_to_indexer\u001b[0m\u001b[0;34m(\u001b[0m\u001b[0mkey\u001b[0m\u001b[0;34m,\u001b[0m \u001b[0mis_setter\u001b[0m\u001b[0;34m=\u001b[0m\u001b[0;32mTrue\u001b[0m\u001b[0;34m)\u001b[0m\u001b[0;34m\u001b[0m\u001b[0m\n\u001b[0m\u001b[1;32m    180\u001b[0m         \u001b[0;32mexcept\u001b[0m \u001b[0mTypeError\u001b[0m \u001b[0;32mas\u001b[0m \u001b[0me\u001b[0m\u001b[0;34m:\u001b[0m\u001b[0;34m\u001b[0m\u001b[0m\n\u001b[1;32m    181\u001b[0m \u001b[0;34m\u001b[0m\u001b[0m\n",
      "\u001b[0;32m~/anaconda3/lib/python3.5/site-packages/pandas/core/indexing.py\u001b[0m in \u001b[0;36m_convert_to_indexer\u001b[0;34m(self, obj, axis, is_setter)\u001b[0m\n\u001b[1;32m   1844\u001b[0m             \u001b[0;32mreturn\u001b[0m \u001b[0mself\u001b[0m\u001b[0;34m.\u001b[0m\u001b[0m_convert_scalar_indexer\u001b[0m\u001b[0;34m(\u001b[0m\u001b[0mobj\u001b[0m\u001b[0;34m,\u001b[0m \u001b[0maxis\u001b[0m\u001b[0;34m)\u001b[0m\u001b[0;34m\u001b[0m\u001b[0m\n\u001b[1;32m   1845\u001b[0m \u001b[0;34m\u001b[0m\u001b[0m\n\u001b[0;32m-> 1846\u001b[0;31m         \u001b[0;32melif\u001b[0m \u001b[0mself\u001b[0m\u001b[0;34m.\u001b[0m\u001b[0m_has_valid_type\u001b[0m\u001b[0;34m(\u001b[0m\u001b[0mobj\u001b[0m\u001b[0;34m,\u001b[0m \u001b[0maxis\u001b[0m\u001b[0;34m)\u001b[0m\u001b[0;34m:\u001b[0m\u001b[0;34m\u001b[0m\u001b[0m\n\u001b[0m\u001b[1;32m   1847\u001b[0m             \u001b[0;32mreturn\u001b[0m \u001b[0mobj\u001b[0m\u001b[0;34m\u001b[0m\u001b[0m\n\u001b[1;32m   1848\u001b[0m \u001b[0;34m\u001b[0m\u001b[0m\n",
      "\u001b[0;32m~/anaconda3/lib/python3.5/site-packages/pandas/core/indexing.py\u001b[0m in \u001b[0;36m_has_valid_type\u001b[0;34m(self, key, axis)\u001b[0m\n\u001b[1;32m   1670\u001b[0m             \u001b[0;32mreturn\u001b[0m \u001b[0;32mTrue\u001b[0m\u001b[0;34m\u001b[0m\u001b[0m\n\u001b[1;32m   1671\u001b[0m         \u001b[0;32melif\u001b[0m \u001b[0mis_integer\u001b[0m\u001b[0;34m(\u001b[0m\u001b[0mkey\u001b[0m\u001b[0;34m)\u001b[0m\u001b[0;34m:\u001b[0m\u001b[0;34m\u001b[0m\u001b[0m\n\u001b[0;32m-> 1672\u001b[0;31m             \u001b[0;32mreturn\u001b[0m \u001b[0mself\u001b[0m\u001b[0;34m.\u001b[0m\u001b[0m_is_valid_integer\u001b[0m\u001b[0;34m(\u001b[0m\u001b[0mkey\u001b[0m\u001b[0;34m,\u001b[0m \u001b[0maxis\u001b[0m\u001b[0;34m)\u001b[0m\u001b[0;34m\u001b[0m\u001b[0m\n\u001b[0m\u001b[1;32m   1673\u001b[0m         \u001b[0;32melif\u001b[0m \u001b[0mis_list_like_indexer\u001b[0m\u001b[0;34m(\u001b[0m\u001b[0mkey\u001b[0m\u001b[0;34m)\u001b[0m\u001b[0;34m:\u001b[0m\u001b[0;34m\u001b[0m\u001b[0m\n\u001b[1;32m   1674\u001b[0m             \u001b[0;32mreturn\u001b[0m \u001b[0mself\u001b[0m\u001b[0;34m.\u001b[0m\u001b[0m_is_valid_list_like\u001b[0m\u001b[0;34m(\u001b[0m\u001b[0mkey\u001b[0m\u001b[0;34m,\u001b[0m \u001b[0maxis\u001b[0m\u001b[0;34m)\u001b[0m\u001b[0;34m\u001b[0m\u001b[0m\n",
      "\u001b[0;32m~/anaconda3/lib/python3.5/site-packages/pandas/core/indexing.py\u001b[0m in \u001b[0;36m_is_valid_integer\u001b[0;34m(self, key, axis)\u001b[0m\n\u001b[1;32m   1711\u001b[0m         \u001b[0ml\u001b[0m \u001b[0;34m=\u001b[0m \u001b[0mlen\u001b[0m\u001b[0;34m(\u001b[0m\u001b[0max\u001b[0m\u001b[0;34m)\u001b[0m\u001b[0;34m\u001b[0m\u001b[0m\n\u001b[1;32m   1712\u001b[0m         \u001b[0;32mif\u001b[0m \u001b[0mkey\u001b[0m \u001b[0;34m>=\u001b[0m \u001b[0ml\u001b[0m \u001b[0;32mor\u001b[0m \u001b[0mkey\u001b[0m \u001b[0;34m<\u001b[0m \u001b[0;34m-\u001b[0m\u001b[0ml\u001b[0m\u001b[0;34m:\u001b[0m\u001b[0;34m\u001b[0m\u001b[0m\n\u001b[0;32m-> 1713\u001b[0;31m             \u001b[0;32mraise\u001b[0m \u001b[0mIndexError\u001b[0m\u001b[0;34m(\u001b[0m\u001b[0;34m\"single positional indexer is out-of-bounds\"\u001b[0m\u001b[0;34m)\u001b[0m\u001b[0;34m\u001b[0m\u001b[0m\n\u001b[0m\u001b[1;32m   1714\u001b[0m         \u001b[0;32mreturn\u001b[0m \u001b[0;32mTrue\u001b[0m\u001b[0;34m\u001b[0m\u001b[0m\n\u001b[1;32m   1715\u001b[0m \u001b[0;34m\u001b[0m\u001b[0m\n",
      "\u001b[0;31mIndexError\u001b[0m: single positional indexer is out-of-bounds"
     ]
    }
   ],
   "source": [
    "plot_diag(catabolites, plant, category, version, catabolite, fragmentation_mode)"
   ]
  }
 ],
 "metadata": {
  "kernelspec": {
   "display_name": "Python 3",
   "language": "python",
   "name": "python3"
  },
  "language_info": {
   "codemirror_mode": {
    "name": "ipython",
    "version": 3
   },
   "file_extension": ".py",
   "mimetype": "text/x-python",
   "name": "python",
   "nbconvert_exporter": "python",
   "pygments_lexer": "ipython3",
   "version": "3.5.4"
  }
 },
 "nbformat": 4,
 "nbformat_minor": 2
}
